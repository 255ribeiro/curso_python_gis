{
 "cells": [
  {
   "cell_type": "markdown",
   "metadata": {},
   "source": [
    "# Testando bibliotecas científicas"
   ]
  },
  {
   "cell_type": "code",
   "execution_count": 1,
   "metadata": {},
   "outputs": [],
   "source": [
    "import os\n",
    "import numpy as np\n",
    "import pandas as pd\n",
    "from matplotlib import pyplot as plt\n",
    "from  scipy import optimize"
   ]
  },
  {
   "cell_type": "markdown",
   "metadata": {},
   "source": [
    "## testando ambiante de trabalho"
   ]
  }
 ],
 "metadata": {
  "interpreter": {
   "hash": "b40ce412e3949083bc35ad9563aab3bb150f480f6610a383c3a3ee86bec2a533"
  },
  "kernelspec": {
   "display_name": "Python 3.9.5 64-bit ('curso-python-gis-nr3uXwoZ-py3.9': poetry)",
   "name": "python3"
  },
  "language_info": {
   "name": "python",
   "version": ""
  }
 },
 "nbformat": 4,
 "nbformat_minor": 2
}