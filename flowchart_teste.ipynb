{
 "cells": [
  {
   "cell_type": "code",
   "execution_count": 4,
   "metadata": {},
   "outputs": [
    {
     "data": {
      "text/plain": [
       "'teste.txt'"
      ]
     },
     "execution_count": 4,
     "metadata": {},
     "output_type": "execute_result"
    }
   ],
   "source": [
    "import  flowgiston as flg\r\n",
    "Base = flg.flowgiston_base(fillcolor= \"lightblue\")\r\n",
    "\r\n",
    "\r\n",
    "class No(Base):\r\n",
    "    fillcolor = \"Red\"\r\n",
    "    label= \"Não\"\r\n",
    "    fontcolor= \"white\"\r\n",
    "    shape = \"octagon\"\r\n",
    "\r\n",
    "class Note(Base):\r\n",
    "    fillcolor= \"lightyellow\"\r\n",
    "    style = \"filled, dashed\"\r\n",
    "    shape = \"box\"\r\n",
    "    fontname = \"courier\"\r\n",
    "\r\n",
    "\r\n",
    "\r\n",
    "\r\n",
    "chart = flg.FlowgistonChart(Base)\r\n",
    "\r\n",
    "is_it_humble = chart.start(\"Is ths a humblebrag?\").edge(chart.if_(\"is it Humble\"))\r\n",
    "is_it_humble.edge(chart.No.node(), label= \" Não\")\r\n",
    "\r\n",
    "is_it_a_brag = is_it_humble.edge(chart.if_('is it a brag'), label = \"SIM\")\r\n",
    "\r\n",
    "is_it_a_brag.edge(chart.No.node(\"Bye, Felicia\"), label=\" Não\")\r\n",
    "end = is_it_a_brag.edge(chart.end(\"Maybe\"), label=\" SIM\").edge(chart.Note.node(\"use your judgement!\"), style=\"dashed\", dir=\"none\")\r\n",
    "\r\n",
    "chart.save('teste.txt')\r\n",
    "\r\n"
   ]
  }
 ],
 "metadata": {
  "interpreter": {
   "hash": "b40ce412e3949083bc35ad9563aab3bb150f480f6610a383c3a3ee86bec2a533"
  },
  "kernelspec": {
   "display_name": "Python 3.9.5 64-bit ('curso-python-gis-nr3uXwoZ-py3.9': poetry)",
   "name": "python3"
  },
  "language_info": {
   "codemirror_mode": {
    "name": "ipython",
    "version": 3
   },
   "file_extension": ".py",
   "mimetype": "text/x-python",
   "name": "python",
   "nbconvert_exporter": "python",
   "pygments_lexer": "ipython3",
   "version": "3.9.5"
  },
  "orig_nbformat": 4
 },
 "nbformat": 4,
 "nbformat_minor": 2
}